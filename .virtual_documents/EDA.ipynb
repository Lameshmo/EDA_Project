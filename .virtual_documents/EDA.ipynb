


import warnings

warnings.filterwarnings("ignore")

import pandas as pd
import numpy as np
import matplotlib.pyplot as plt
import seaborn as sns
import requests




from matplotlib.ticker import PercentFormatter
plt.rcParams.update({ "figure.figsize" : (8, 5),"axes.facecolor" : "white", "axes.edgecolor":  "black"})
plt.rcParams["figure.facecolor"]= "w"
pd.plotting.register_matplotlib_converters()
pd.set_option('display.float_format', lambda x: '%.3f' % x)


df = pd.read_csv('./data/eda.csv')

#converting to proper datetime format
df.date = pd.to_datetime(df.date)
df.head(20)


list_of_content = df.columns 
for x in list_of_content: 
    print(f" \n{x}:\n\n {df[x].unique()}")


df.info


df.duplicated().value_counts()



df.columns




df.dtypes





# Load the dataset
#file_path = 'path_to_your_file.csv'  # Replace with the path to your file
#data = pd.read_csv(file_path)

# Create a base map centered on the average latitude and longitude
#map_center = [data['lat'].mean(), data['long'].mean()]
#m = folium.Map(location=map_center, zoom_start=10, tiles='Stamen Toner')

# Add house locations to the map
#for _, row in data.iterrows():
#    folium.CircleMarker(
#        location=[row['lat'], row['long']],  # Latitude and Longitude
#        radius=2,  # Size of the marker
#        color='blue',  # Marker color
#        fill=True,  # Fill the marker
#        fill_opacity=0.5,  # Transparency
#   ).add_to(m)

# Save the map to an HTML file
#m.save('house_locations_map.html')

#print("Map has been saved as 'house_locations_map.html'. Open this file in your browser to view it.")


unique_zipcodes = df['zipcode'].unique()  # Get unique zip codes
num_unique_zipcodes = len(unique_zipcodes)  # Count the number of unique zip codes

print(f"Number of unique zip codes: {num_unique_zipcodes}")
print("Unique zip codes:", unique_zipcodes)


def get_city_by_zip(zip_code):
    try:
        # Make API request for the zip code (This works for US zip codes)
        response = requests.get(f'http://api.zippopotam.us/us/{zip_code}')
        
        # If the response is successful and contains city info
        if response.status_code == 200:
            data = response.json()
            # Extract the city name from the response
            if 'places' in data:
                return data['places'][0]['place name']
            else:
                return None
        else:
            return None
    except Exception as e:
        # In case of any error (e.g., invalid zip code)
        return None

# Assuming your DataFrame is named df
# Apply the function to get the city for each zip code in the DataFrame
df['city'] = df['zipcode'].apply(lambda x: get_city_by_zip(str(x)))  # Ensure zip codes are in string format

# Display the first few rows with city names
print(df[['zipcode', 'city']].head())


df.tail(20)


# Group the houses by 'zipcode' and then sort by 'price' within each group
grouped_by_zip = df.groupby('zipcode').apply(lambda x: x.sort_values('price', ascending=False))

# Resetting the index for better readability
grouped_by_zip.reset_index(drop=True, inplace=True)

# Display the first few rows to check
print(grouped_by_zip[['house_id','zipcode','date', 'price', 'condition', 'grade','yr_renovated', 'yr_renovated']].head(20))




# Scatter plot with seaborn
plt.figure(figsize=(10, 6))
sns.scatterplot(x='yr_renovated', y='price', data=df, alpha=0.5, color='blue')
plt.title('Price vs. Year Renovated')
plt.xlabel('Year Renovated')
plt.ylabel('Price')
plt.grid(True)
plt.show()









