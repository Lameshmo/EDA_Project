











import pandas as pd
import psycopg2





import os
from dotenv import load_dotenv

load_dotenv()

DATABASE = os.getenv('DATABASE')
USER_DB = os.getenv('USER_DB')
PASSWORD = os.getenv('PASSWORD')
HOST = os.getenv('HOST')
PORT = os.getenv('PORT')





# Create connection object conn
conn = psycopg2.connect(
    database=DATABASE,
    user=USER_DB,
    password=PASSWORD,
    host=HOST,
    port=PORT
)





cur = conn.cursor()





cur.execute('SELECT * FROM eda.king_county_house_sales LIMIT 10')
cur.fetchall()





#close the connection
conn.close()





# Open connection again because we closed it
conn = psycopg2.connect(
    database=DATABASE,
    user=USER_DB,
    password=PASSWORD,
    host=HOST,
    port=PORT
)


# import the data into a pandas dataframe
query_string = "SELECT * FROM eda.king_county_house_sales LIMIT 10"
df_psycopg = pd.read_sql(query_string, conn)


#close the connection
conn.close()


df_psycopg.head()


#export the data to a csv-file
df_psycopg.to_csv('data/eda.csv',index=False)





from sqlalchemy import create_engine

#read the database string from the .env
load_dotenv()

DB_STRING = os.getenv('DB_STRING')

db = create_engine(DB_STRING)





#import the data to a pandas dataframe
query_string = "SELECT * FROM eda.king_county_house_sales"
df_sqlalchemy = pd.read_sql(query_string, db)


df_sqlalchemy.head()





#export the data to a csv-file
df_sqlalchemy.to_csv('eda.csv',index=False)


#import the data from a csv-file
df_import = pd.read_csv('data/eda.csv')
