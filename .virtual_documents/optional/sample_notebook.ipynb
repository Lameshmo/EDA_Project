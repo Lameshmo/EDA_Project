


import warnings

warnings.filterwarnings("ignore")

import pandas as pd
import numpy as np


data = {'col_1': [3, 2, 1, 0], 'col_2': [4,5,6,np.nan], 'col_3': [4,5,6,np.nan]}
df = pd.DataFrame.from_dict(data)


print("Number of missing values col_2: ", df.col_2.isnull().sum())
print("Number of missing values col_3: ", df.col_3.isnull().sum())


# having the function in the notebook

# function to impute NaNs with mean value
def impute(series: pd.Series) -> pd.Series:
    mean = series.mean()
    return series.fillna(mean)


df["col_2"] = impute(df["col_2"])
print("Number of missing values col_2: ", df.col_2.isnull().sum())
print("Number of missing values col_3: ", df.col_3.isnull().sum())





# calling the function from the script
# as the notebook is in the same folder the import doesn't need scripts.data_preprocessing
from data_processing import impute_mean
df["col_3"] = impute_mean(df["col_3"])
print("Number of missing values col_2: ", df.col_2.isnull().sum())
print("Number of missing values col_3: ", df.col_3.isnull().sum())
